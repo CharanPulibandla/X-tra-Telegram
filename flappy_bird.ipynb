{
  "nbformat": 4,
  "nbformat_minor": 0,
  "metadata": {
    "colab": {
      "name": "flappy bird.ipynb",
      "provenance": [],
      "collapsed_sections": [],
      "authorship_tag": "ABX9TyNKOxGwDS85d5l7E8BaL/lc",
      "include_colab_link": true
    },
    "kernelspec": {
      "name": "python3",
      "display_name": "Python 3"
    },
    "language_info": {
      "name": "python"
    }
  },
  "cells": [
    {
      "cell_type": "markdown",
      "metadata": {
        "id": "view-in-github",
        "colab_type": "text"
      },
      "source": [
        "<a href=\"https://colab.research.google.com/github/CharanPulibandla/X-tra-Telegram/blob/master/flappy_bird.ipynb\" target=\"_parent\"><img src=\"https://colab.research.google.com/assets/colab-badge.svg\" alt=\"Open In Colab\"/></a>"
      ]
    },
    {
      "cell_type": "markdown",
      "source": [
        "# **CODE FOR FLAPPY BIRD GAME- COMPUTER VERSION**"
      ],
      "metadata": {
        "id": "xOE509ilofyL"
      }
    },
    {
      "cell_type": "markdown",
      "source": [
        "CS101 MINIPROJECT\n",
        "\n",
        "CODE AND ITS EXPLANATION\n",
        "\n",
        "SUBMITTED BY:\n",
        "\n",
        "\n",
        "1.   PULIBANDLA CHARAN - 211ME237\n",
        "2.   RACHAMADUGU LAVANYA - 211ME238\n",
        "\n",
        "SUBMITTED TO:\n",
        "\n",
        "PROF. SURAJ M\n",
        "\n",
        "\n"
      ],
      "metadata": {
        "id": "FdzMQ5sEznwP"
      }
    },
    {
      "cell_type": "markdown",
      "source": [
        "# 1. Importing Modules:"
      ],
      "metadata": {
        "id": "h1W-J9KLo0VF"
      }
    },
    {
      "cell_type": "markdown",
      "source": [
        "For the project, we imported the necessary modules. We used `random` for generating random numbers for our game. `sys.exit` from the `sys` module is used to exit the program. Next, we imported `Pygame` and the basic Pygame imports respectively. We imported `mixer` from `pygame` to play background music."
      ],
      "metadata": {
        "id": "k98L8F4hpA59"
      }
    },
    {
      "cell_type": "code",
      "source": [
        "import random\n",
        "import sys\n",
        "import pygame\n",
        "from pygame.locals import *\n",
        "from pygame import mixer"
      ],
      "metadata": {
        "id": "qynj9T7xpWQD"
      },
      "execution_count": null,
      "outputs": []
    },
    {
      "cell_type": "markdown",
      "source": [
        "# 2. Global Variables Declared:"
      ],
      "metadata": {
        "id": "N8xLI9-tqOzR"
      }
    },
    {
      "cell_type": "markdown",
      "source": [
        "In this step, we declared various global variables for our game. We first set the value for `FPS`(frames per second), `SCREENWIDTH` and `SCREENHEIGHT`.\n",
        "\n",
        "We created the screen with `SCREENWIDTH` and `SCREENHEIGHT` as an argument for the `pygame.display.set_mode()` function. Then, we created a `groundy` variable which will give the y-coordinate for our base image, and 2 dictionaries `GAME_SPRITES` and `GAME_SOUNDS` which will contained our various images and sounds used for the game.\n",
        "\n",
        "Then, we stored the images of the `PLAYER` (bird), `BACKGROUND` and `PIPE` in these variables by giving their paths."
      ],
      "metadata": {
        "id": "coMyW7uKqXM7"
      }
    },
    {
      "cell_type": "code",
      "source": [
        "FPS = 32\n",
        "SCREENWIDTH = 289\n",
        "SCREENHEIGHT = 511\n",
        "SCREEN = pygame.display.set_mode((SCREENWIDTH, SCREENHEIGHT))\n",
        "GROUNDY = SCREENHEIGHT * 0.8\n",
        "GAME_SPRITES = {}\n",
        "GAME_SOUNDS = {}\n",
        "PLAYER = 'gallery/sprites/bird.png'\n",
        "BACKGROUND = 'gallery/sprites/background.png'\n",
        "PIPE = 'gallery/sprites/pipe.png'"
      ],
      "metadata": {
        "id": "LZJw3Hj4rpg5"
      },
      "execution_count": null,
      "outputs": []
    },
    {
      "cell_type": "markdown",
      "source": [
        "# 3. Playing BGM"
      ],
      "metadata": {
        "id": "c9KDcdRertvY"
      }
    },
    {
      "cell_type": "markdown",
      "source": [
        "Background music is played by using methods in mixer. `.init()` initializes the mixer, `.music.load()` opens and optimizes music for playing, `.music.play()` plays the music, `-1` which is passed as the argument plays the music in loop."
      ],
      "metadata": {
        "id": "A470F3ycr0JZ"
      }
    },
    {
      "cell_type": "code",
      "source": [
        "mixer.init()\n",
        "mixer.music.load('gallery/audio/bgm.wav')\n",
        "mixer.music.play(-1)"
      ],
      "metadata": {
        "id": "s1pDAUQIsPVJ"
      },
      "execution_count": null,
      "outputs": []
    },
    {
      "cell_type": "markdown",
      "source": [
        "# 4. Creating the \"\\_\\_main__\" function:"
      ],
      "metadata": {
        "id": "RDFp_W74sRts"
      }
    },
    {
      "cell_type": "markdown",
      "source": [
        "Then, we created the main function where our game will start and we to initialized all pygame modules using `pygame.init()`. We also created `FPSCLOCK` variable to help us track time at a moment using `pygame.tick.Clock()` function.\n",
        "\n",
        "Then we gave a title to our main game window and stored all the images in a tuple with first, which we then assigned to the ’numbers’ key in the `GAME_SPRITES` dictionary. We used `pygame.image.load()` with paths of the images as arguments along with `convert_alpha()` to change the pixel format of an image including per pixel alphas.\n",
        "\n",
        "Similarly, we added the images of the message, base, pipe, background, player, and title, into the dictionary using various keys. For pipe, we also added an inverted pipe image by using `pygame.transform.rotate()` function and rotating the image by 180 degrees. We then added the sounds to the `GAME_SOUNDS` dictionary using various keys.\n",
        "\n",
        "Here we used `pygame.mixer.Sound()` function with the paths for various sounds as the argument for storing the sounds. Then we started a loop calling the `welcomeScreen()` and `mainGame()` functions which were defined in the later sections."
      ],
      "metadata": {
        "id": "31q-DSyYs0fj"
      }
    },
    {
      "cell_type": "code",
      "source": [
        "if __name__ == \"__main__\":\n",
        "    # This will be the main point from where our game will start\n",
        "    pygame.init() # Initialize all pygame's modules\n",
        "    FPSCLOCK = pygame.time.Clock()\n",
        "    pygame.display.set_caption('Flappy Bird by CodeWithHarry')\n",
        "    GAME_SPRITES['numbers'] = ( \n",
        "        pygame.image.load('gallery/sprites/0.png').convert_alpha(),\n",
        "        pygame.image.load('gallery/sprites/1.png').convert_alpha(),\n",
        "        pygame.image.load('gallery/sprites/2.png').convert_alpha(),\n",
        "        pygame.image.load('gallery/sprites/3.png').convert_alpha(),\n",
        "        pygame.image.load('gallery/sprites/4.png').convert_alpha(),\n",
        "        pygame.image.load('gallery/sprites/5.png').convert_alpha(),\n",
        "        pygame.image.load('gallery/sprites/6.png').convert_alpha(),\n",
        "        pygame.image.load('gallery/sprites/7.png').convert_alpha(),\n",
        "        pygame.image.load('gallery/sprites/8.png').convert_alpha(),\n",
        "        pygame.image.load('gallery/sprites/9.png').convert_alpha(),\n",
        "    )\n",
        "\n",
        "    GAME_SPRITES['message'] =pygame.image.load('gallery/sprites/message.png').convert_alpha()\n",
        "    GAME_SPRITES['base'] =pygame.image.load('gallery/sprites/base.png').convert_alpha()\n",
        "    GAME_SPRITES['pipe'] =(pygame.transform.rotate(pygame.image.load( PIPE).convert_alpha(), 180), \n",
        "    pygame.image.load(PIPE).convert_alpha()\n",
        "    )\n",
        "\n",
        "    # Game sounds\n",
        "    GAME_SOUNDS['die'] = pygame.mixer.Sound('gallery/audio/die.wav')\n",
        "    GAME_SOUNDS['hit'] = pygame.mixer.Sound('gallery/audio/hit.wav')\n",
        "    GAME_SOUNDS['point'] = pygame.mixer.Sound('gallery/audio/point.wav')\n",
        "    GAME_SOUNDS['swoosh'] = pygame.mixer.Sound('gallery/audio/swoosh.wav')\n",
        "    GAME_SOUNDS['wing'] = pygame.mixer.Sound('gallery/audio/wing.wav')\n",
        "\n",
        "    GAME_SPRITES['background'] = pygame.image.load(BACKGROUND).convert()\n",
        "    GAME_SPRITES['player'] = pygame.image.load(PLAYER).convert_alpha()\n",
        "\n",
        "    while True:\n",
        "        welcomeScreen() # Shows welcome screen to the user until he presses a button\n",
        "        mainGame() # This is the main game function "
      ],
      "metadata": {
        "id": "CZx0L5fMs3uS"
      },
      "execution_count": null,
      "outputs": []
    },
    {
      "cell_type": "markdown",
      "source": [
        "# 5. Creating \"WelcomeScreen\" function:"
      ],
      "metadata": {
        "id": "QEdI5gris-dA"
      }
    },
    {
      "cell_type": "markdown",
      "source": [
        "Now, we defined our `welcomeScreen()` function which will display the welcome screen on starting the game. We started by assigning the values of the x-coordinate and y-coordinate for the player and message images.\n",
        "\n",
        "We have selected the arguments by hit and trial method. We also gave the x-coordinate of base here. Then, we started a while loop which will always be True and thus will start a loop that will not stop unless the control says quit.\n",
        "\n",
        "Here we made use of a for loop for analyzing all the events taking place throughout the game using `pygame.event.get()` function. Then we checked that whenever a quit type of event is encountered by pressing the escape key, the game window will close.\n",
        "\n",
        "Next, we checked the next condition i.e. whether we clicked the up key or the space button. If yes, we will return from the function and start the game. And if no key or button is pressed, the welcome screen is displayed. For that, we placed the background, message, player and base images using `screen.blit()` function.\n",
        "\n",
        "Finally, we updated our window using `pygame.display.update()` and updated our clock variable with fps value as argument to show just 32 frames per second."
      ],
      "metadata": {
        "id": "nHKmdu0XtHKb"
      }
    },
    {
      "cell_type": "code",
      "source": [
        "def welcomeScreen():\n",
        "    \"\"\"\n",
        "    Shows welcome images on the screen\n",
        "    \"\"\"\n",
        "\n",
        "    playerx = int(SCREENWIDTH/5)\n",
        "    playery = int((SCREENHEIGHT - GAME_SPRITES['player'].get_height())/2)\n",
        "    messagex = int((SCREENWIDTH - GAME_SPRITES['message'].get_width())/2)\n",
        "    messagey = int(SCREENHEIGHT*0.13)\n",
        "    basex = 0\n",
        "    while True:\n",
        "        for event in pygame.event.get():\n",
        "            # if user clicks on cross button, close the game\n",
        "            if event.type == QUIT or (event.type==KEYDOWN and event.key == K_ESCAPE):\n",
        "                pygame.quit()\n",
        "                sys.exit()\n",
        "\n",
        "            # If the user presses space or up key, start the game for them\n",
        "            elif event.type==KEYDOWN and (event.key==K_SPACE or event.key == K_UP):\n",
        "                return\n",
        "            else:\n",
        "                SCREEN.blit(GAME_SPRITES['background'], (0, 0))    \n",
        "                SCREEN.blit(GAME_SPRITES['player'], (playerx, playery))    \n",
        "                SCREEN.blit(GAME_SPRITES['message'], (messagex,messagey ))    \n",
        "                SCREEN.blit(GAME_SPRITES['base'], (basex, GROUNDY))    \n",
        "                pygame.display.update()\n",
        "                FPSCLOCK.tick(FPS)"
      ],
      "metadata": {
        "id": "_NGbNuA0tLw4"
      },
      "execution_count": null,
      "outputs": []
    },
    {
      "cell_type": "markdown",
      "source": [
        "# 6. Creating the \"mainGame()\" function:"
      ],
      "metadata": {
        "id": "VUgeLW0stQx3"
      }
    },
    {
      "cell_type": "markdown",
      "source": [
        "We defined our `mainGame()` function by first initializing the variable score with 0, and also gave the coordinates for player image and base again.\n",
        "\n",
        "Then we created 2 pipes for blitting on the screen using `getRandomPipe()` which was defined later. Then we created a list of upper pipes (inverted ones) and lower pipes with their x and y coordinates.\n",
        "\n",
        "Again we have chosen values by hit and trial method. Then, we declared variables for velocities in different directions for the bird. We also provided an acceleration variable.\n",
        "\n",
        "`playerVel` is the velocity while flapping and playerFlapped is set to false (which is true only if the bird flaps). Then again we check for events.\n",
        "\n",
        "1.    First for exiting the game and exit the game if true.\n",
        "2.    Then we checked if the up key or spacebar is pressed. If yes, we checked if the player is below the screen top and if yes, we make some updates and play the sound of the wing using `.play()`.\n",
        "3.    After this, we checked if we have crashed using the `isCollide()` function was defined later. If true, we will return from the function.\n",
        "\n",
        "Then, we checked and updated the scores. Using the player’s, mid position, and the positions of the pipes, we increased the score if we cross a pipe and print it in the console.\n",
        "\n",
        "Also, we played the point sound for crossing each pipe. Then if the player velocity in y-direction has not yet become max, we will provide the acceleration.\n",
        "\n",
        "Later on, we update the `Score` value and then the position of the bird. We move the pipes to the left and add a new pipe when the first one is about to cross the leftmost part of the screen.\n",
        "\n",
        "We will also see if the pipe is out of the screen and if yes, we remove it and place our pipes and the score on our screen, later on, update the display screen.\n",
        "\n",
        "For the score, we first access all the digits of the score (if more than 1 digit score) and place the required images. We update our clock again.\n",
        "\n"
      ],
      "metadata": {
        "id": "Qp50uEMdtZe3"
      }
    },
    {
      "cell_type": "code",
      "source": [
        "def mainGame():\n",
        "    score = 0\n",
        "    playerx = int(SCREENWIDTH/5)\n",
        "    playery = int(SCREENWIDTH/2)\n",
        "    basex = 0\n",
        "\n",
        "    # Create 2 pipes for blitting on the screen\n",
        "    newPipe1 = getRandomPipe()\n",
        "    newPipe2 = getRandomPipe()\n",
        "\n",
        "    # my List of upper pipes\n",
        "    upperPipes = [\n",
        "        {'x': SCREENWIDTH+200, 'y':newPipe1[0]['y']},\n",
        "        {'x': SCREENWIDTH+200+(SCREENWIDTH/2), 'y':newPipe2[0]['y']},\n",
        "    ]\n",
        "    # my List of lower pipes\n",
        "    lowerPipes = [\n",
        "        {'x': SCREENWIDTH+200, 'y':newPipe1[1]['y']},\n",
        "        {'x': SCREENWIDTH+200+(SCREENWIDTH/2), 'y':newPipe2[1]['y']},\n",
        "    ]\n",
        "\n",
        "    pipeVelX = -4\n",
        "\n",
        "    playerVelY = -9\n",
        "    playerMaxVelY = 10\n",
        "    playerMinVelY = -8\n",
        "    playerAccY = 1\n",
        "\n",
        "    playerFlapAccv = -8 # velocity while flapping\n",
        "    playerFlapped = False # It is true only when the bird is flapping\n",
        "\n",
        "\n",
        "    while True:\n",
        "        for event in pygame.event.get():\n",
        "            if event.type == QUIT or (event.type == KEYDOWN and event.key == K_ESCAPE):\n",
        "                pygame.quit()\n",
        "                sys.exit()\n",
        "            if event.type == KEYDOWN and (event.key == K_SPACE or event.key == K_UP):\n",
        "                if playery > 0:\n",
        "                    playerVelY = playerFlapAccv\n",
        "                    playerFlapped = True\n",
        "                    GAME_SOUNDS['wing'].play()\n",
        "\n",
        "\n",
        "        crashTest = isCollide(playerx, playery, upperPipes, lowerPipes) # This function will return true if the player is crashed\n",
        "        if crashTest:\n",
        "            return     \n",
        "\n",
        "        #check for score\n",
        "        playerMidPos = playerx + GAME_SPRITES['player'].get_width()/2\n",
        "        for pipe in upperPipes:\n",
        "            pipeMidPos = pipe['x'] + GAME_SPRITES['pipe'][0].get_width()/2\n",
        "            if pipeMidPos<= playerMidPos < pipeMidPos +4:\n",
        "                score +=1\n",
        "                print(f\"Your score is {score}\") \n",
        "                GAME_SOUNDS['point'].play()\n",
        "\n",
        "\n",
        "        if playerVelY <playerMaxVelY and not playerFlapped:\n",
        "            playerVelY += playerAccY\n",
        "\n",
        "        if playerFlapped:\n",
        "            playerFlapped = False            \n",
        "        playerHeight = GAME_SPRITES['player'].get_height()\n",
        "        playery = playery + min(playerVelY, GROUNDY - playery - playerHeight)\n",
        "\n",
        "        # move pipes to the left\n",
        "        for upperPipe , lowerPipe in zip(upperPipes, lowerPipes):\n",
        "            upperPipe['x'] += pipeVelX\n",
        "            lowerPipe['x'] += pipeVelX\n",
        "\n",
        "        # Add a new pipe when the first is about to cross the leftmost part of the screen\n",
        "        if 0<upperPipes[0]['x']<5:\n",
        "            newpipe = getRandomPipe()\n",
        "            upperPipes.append(newpipe[0])\n",
        "            lowerPipes.append(newpipe[1])\n",
        "\n",
        "        # if the pipe is out of the screen, remove it\n",
        "        if upperPipes[0]['x'] < -GAME_SPRITES['pipe'][0].get_width():\n",
        "            upperPipes.pop(0)\n",
        "            lowerPipes.pop(0)\n",
        "        \n",
        "        # Lets blit our sprites now\n",
        "        SCREEN.blit(GAME_SPRITES['background'], (0, 0))\n",
        "        for upperPipe, lowerPipe in zip(upperPipes, lowerPipes):\n",
        "            SCREEN.blit(GAME_SPRITES['pipe'][0], (upperPipe['x'], upperPipe['y']))\n",
        "            SCREEN.blit(GAME_SPRITES['pipe'][1], (lowerPipe['x'], lowerPipe['y']))\n",
        "\n",
        "        SCREEN.blit(GAME_SPRITES['base'], (basex, GROUNDY))\n",
        "        SCREEN.blit(GAME_SPRITES['player'], (playerx, playery))\n",
        "        myDigits = [int(x) for x in list(str(score))]\n",
        "        width = 0\n",
        "        for digit in myDigits:\n",
        "            width += GAME_SPRITES['numbers'][digit].get_width()\n",
        "        Xoffset = (SCREENWIDTH - width)/2\n",
        "\n",
        "        for digit in myDigits:\n",
        "            SCREEN.blit(GAME_SPRITES['numbers'][digit], (Xoffset, SCREENHEIGHT*0.12))\n",
        "            Xoffset += GAME_SPRITES['numbers'][digit].get_width()\n",
        "        pygame.display.update()\n",
        "        FPSCLOCK.tick(FPS)"
      ],
      "metadata": {
        "id": "Xb884FlNtxjv"
      },
      "execution_count": null,
      "outputs": []
    },
    {
      "cell_type": "markdown",
      "source": [
        "# 7. isCollide() and getRandomPipe() functins:"
      ],
      "metadata": {
        "id": "qLMqcGikt1qX"
      }
    },
    {
      "cell_type": "markdown",
      "source": [
        "In the `isCollide()` function, first, we check if we have hit the top of the base inline and then we look for collision with upper pipes by comparing the position of the bird with that of the pipe to check for the collision.\n",
        "\n",
        "We repeat the same for lower pipes. If any of the collision conditions are true, we play the hit sound and return True.\n",
        "\n",
        "In the `getRandomPipe()` function, we store the height of the pipe in the pipeHeight variable and use the offset variable to store one-third of screen_width.\n",
        "\n",
        "We then assign the values of the x and y coordinates for the pipes using random functions at equal distances, but with different sizes of upper and lower pipes. Then we store the coordinates in a list named pipe and return it."
      ],
      "metadata": {
        "id": "789KBC2_t9ks"
      }
    },
    {
      "cell_type": "code",
      "source": [
        "def isCollide(playerx, playery, upperPipes, lowerPipes):\n",
        "    if playery> GROUNDY - 25  or playery<0:\n",
        "        GAME_SOUNDS['hit'].play()\n",
        "        return True\n",
        "    \n",
        "    for pipe in upperPipes:\n",
        "        pipeHeight = GAME_SPRITES['pipe'][0].get_height()\n",
        "        if(playery < pipeHeight + pipe['y'] and abs(playerx - pipe['x']) < GAME_SPRITES['pipe'][0].get_width()):\n",
        "            GAME_SOUNDS['hit'].play()\n",
        "            return True\n",
        "\n",
        "    for pipe in lowerPipes:\n",
        "        if (playery + GAME_SPRITES['player'].get_height() > pipe['y']) and abs(playerx - pipe['x']) < GAME_SPRITES['pipe'][0].get_width():\n",
        "            GAME_SOUNDS['hit'].play()\n",
        "            return True\n",
        "\n",
        "    return False\n",
        "\n",
        "def getRandomPipe():\n",
        "    \"\"\"\n",
        "    Generate positions of two pipes(one bottom straight and one top rotated ) for blitting on the screen\n",
        "    \"\"\"\n",
        "    pipeHeight = GAME_SPRITES['pipe'][0].get_height()\n",
        "    offset = SCREENHEIGHT/3\n",
        "    y2 = offset + random.randrange(0, int(SCREENHEIGHT - GAME_SPRITES['base'].get_height()  - 1.2 *offset))\n",
        "    pipeX = SCREENWIDTH + 10\n",
        "    y1 = pipeHeight - y2 + offset\n",
        "    pipe = [\n",
        "        {'x': pipeX, 'y': -y1}, #upper Pipe\n",
        "        {'x': pipeX, 'y': y2} #lower Pipe\n",
        "    ]\n",
        "    return pipe"
      ],
      "metadata": {
        "id": "jQ9inez0uA0U"
      },
      "execution_count": null,
      "outputs": []
    }
  ]
}